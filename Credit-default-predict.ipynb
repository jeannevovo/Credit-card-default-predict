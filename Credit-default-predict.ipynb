{
 "cells": [
  {
   "cell_type": "markdown",
   "id": "7837a0f7-2f75-4ba5-9205-38bd5fac2c22",
   "metadata": {},
   "source": [
    "# Applied Machine Learning - Credit Card Default Predict\n",
    "\n",
    "**Nhu Vo** \n",
    "November 2023"
   ]
  },
  {
   "cell_type": "markdown",
   "id": "dc9642ec-bcd0-48bd-9dca-03c771b52521",
   "metadata": {},
   "source": [
    "## Table of contents\n",
    "0. [Understanding the problem](#1)\n",
    "1. [Data splitting](#2)\n",
    "2. [EDA](#3)\n",
    "3. [Feature engineering](#4)\n",
    "4. [Preprocessing and transformations](#5) \n",
    "5. [Baseline model](#6)\n",
    "6. [Linear models](#7)\n",
    "7. [Different models](#8)\n",
    "8. [Interpretation and feature importances](#11) \n",
    "9. [Results on the test set](#12)\n",
    "10. [Summary of the results](#13)\n",
    "11. [Takeaway](#15)"
   ]
  },
  {
   "cell_type": "markdown",
   "id": "d4f6175e-2c69-433a-a790-6b5bc8ffb520",
   "metadata": {},
   "source": [
    "## Imports"
   ]
  },
  {
   "cell_type": "code",
   "execution_count": 1,
   "id": "a3e4873c-335a-4fc2-a3c2-79012f055698",
   "metadata": {},
   "outputs": [],
   "source": [
    "import os\n",
    "\n",
    "%matplotlib inline\n",
    "import string\n",
    "import sys\n",
    "\n",
    "import matplotlib.pyplot as plt\n",
    "import numpy as np\n",
    "import pandas as pd\n",
    "from sklearn.model_selection import train_test_split\n",
    "from sklearn.impute import SimpleImputer\n",
    "from sklearn.preprocessing import StandardScaler\n",
    "from sklearn.preprocessing import OneHotEncoder\n",
    "from sklearn.compose import ColumnTransformer\n",
    "from sklearn.pipeline import Pipeline\n",
    "from sklearn.dummy import DummyClassifier    \n",
    "from sklearn.metrics import accuracy_score, classification_report, confusion_matrix\n",
    "from sklearn.svm import SVC\n",
    "from sklearn.pipeline import make_pipeline\n",
    "from sklearn.linear_model import LogisticRegression\n",
    "from sklearn.model_selection import RandomizedSearchCV\n",
    "from sklearn.model_selection import cross_val_score, cross_validate\n",
    "from sklearn.tree import DecisionTreeClassifier\n",
    "from sklearn.ensemble import RandomForestClassifier\n",
    "from sklearn.neighbors import KNeighborsClassifier\n",
    "from sklearn.feature_selection import RFECV, RFE\n"
   ]
  },
  {
   "cell_type": "markdown",
   "id": "be2b9826-d9de-4e13-a463-10519373464c",
   "metadata": {},
   "source": [
    "## Introduction <a name=\"in\"></a>\n",
    "This mini project is where I put all the different things I had learned in the Machine Learning course at Seattle Pacific University to solve an interesting problem - credit card default prediction.\n"
   ]
  },
  {
   "cell_type": "markdown",
   "id": "e6683240-2de7-4e2a-937d-34255a5663f1",
   "metadata": {},
   "source": [
    "<br><br>"
   ]
  },
  {
   "cell_type": "markdown",
   "id": "568adfbc-18e4-4325-9fb8-d7a9bc4354be",
   "metadata": {},
   "source": [
    "##  Explain the prediction problem <a name=\"1\"></a>\n",
    "In this project, I was working on a classification problem of predicting whether a credit card client will default or not. \n",
    "For this problem, I used [Default of Credit Card Clients Dataset](https://www.kaggle.com/uciml/default-of-credit-card-clients-dataset). In this data set, there are 30,000 examples and 24 features, and the goal is to estimate whether a person will default (fail to pay) their credit card bills; this column is labeled \"default.payment.next.month\" in the data. The rest of the columns were used as features, with several feature engineering I added in the code. \n",
    "\n",
    "**Dataset Observations**\n",
    "- Our task is a binary classification problem where the goal is to predict whether a person will default on their credit card payment next month (1=yes, 0=no).\n",
    "- This is huge dataset with 24 features and 30000 examples. This could be one of the challenge to work with.\n",
    "- The dataset includes a mix of numerical and categorical features, such as credit amount, gender, education, marital status, age, and repayment history.\n",
    "- It is a pretty clean dataset with no 'Unknown' or 'N/A' value for any row."
   ]
  },
  {
   "cell_type": "code",
   "execution_count": 2,
   "id": "7c1e88e6-ef0f-41e5-a7a3-c8f58db040dc",
   "metadata": {},
   "outputs": [
    {
     "data": {
      "text/html": [
       "<div>\n",
       "<style scoped>\n",
       "    .dataframe tbody tr th:only-of-type {\n",
       "        vertical-align: middle;\n",
       "    }\n",
       "\n",
       "    .dataframe tbody tr th {\n",
       "        vertical-align: top;\n",
       "    }\n",
       "\n",
       "    .dataframe thead th {\n",
       "        text-align: right;\n",
       "    }\n",
       "</style>\n",
       "<table border=\"1\" class=\"dataframe\">\n",
       "  <thead>\n",
       "    <tr style=\"text-align: right;\">\n",
       "      <th></th>\n",
       "      <th>ID</th>\n",
       "      <th>LIMIT_BAL</th>\n",
       "      <th>SEX</th>\n",
       "      <th>EDUCATION</th>\n",
       "      <th>MARRIAGE</th>\n",
       "      <th>AGE</th>\n",
       "      <th>PAY_0</th>\n",
       "      <th>PAY_2</th>\n",
       "      <th>PAY_3</th>\n",
       "      <th>PAY_4</th>\n",
       "      <th>...</th>\n",
       "      <th>BILL_AMT4</th>\n",
       "      <th>BILL_AMT5</th>\n",
       "      <th>BILL_AMT6</th>\n",
       "      <th>PAY_AMT1</th>\n",
       "      <th>PAY_AMT2</th>\n",
       "      <th>PAY_AMT3</th>\n",
       "      <th>PAY_AMT4</th>\n",
       "      <th>PAY_AMT5</th>\n",
       "      <th>PAY_AMT6</th>\n",
       "      <th>default.payment.next.month</th>\n",
       "    </tr>\n",
       "  </thead>\n",
       "  <tbody>\n",
       "    <tr>\n",
       "      <th>0</th>\n",
       "      <td>1</td>\n",
       "      <td>20000.0</td>\n",
       "      <td>2</td>\n",
       "      <td>2</td>\n",
       "      <td>1</td>\n",
       "      <td>24</td>\n",
       "      <td>2</td>\n",
       "      <td>2</td>\n",
       "      <td>-1</td>\n",
       "      <td>-1</td>\n",
       "      <td>...</td>\n",
       "      <td>0.0</td>\n",
       "      <td>0.0</td>\n",
       "      <td>0.0</td>\n",
       "      <td>0.0</td>\n",
       "      <td>689.0</td>\n",
       "      <td>0.0</td>\n",
       "      <td>0.0</td>\n",
       "      <td>0.0</td>\n",
       "      <td>0.0</td>\n",
       "      <td>1</td>\n",
       "    </tr>\n",
       "    <tr>\n",
       "      <th>1</th>\n",
       "      <td>2</td>\n",
       "      <td>120000.0</td>\n",
       "      <td>2</td>\n",
       "      <td>2</td>\n",
       "      <td>2</td>\n",
       "      <td>26</td>\n",
       "      <td>-1</td>\n",
       "      <td>2</td>\n",
       "      <td>0</td>\n",
       "      <td>0</td>\n",
       "      <td>...</td>\n",
       "      <td>3272.0</td>\n",
       "      <td>3455.0</td>\n",
       "      <td>3261.0</td>\n",
       "      <td>0.0</td>\n",
       "      <td>1000.0</td>\n",
       "      <td>1000.0</td>\n",
       "      <td>1000.0</td>\n",
       "      <td>0.0</td>\n",
       "      <td>2000.0</td>\n",
       "      <td>1</td>\n",
       "    </tr>\n",
       "    <tr>\n",
       "      <th>2</th>\n",
       "      <td>3</td>\n",
       "      <td>90000.0</td>\n",
       "      <td>2</td>\n",
       "      <td>2</td>\n",
       "      <td>2</td>\n",
       "      <td>34</td>\n",
       "      <td>0</td>\n",
       "      <td>0</td>\n",
       "      <td>0</td>\n",
       "      <td>0</td>\n",
       "      <td>...</td>\n",
       "      <td>14331.0</td>\n",
       "      <td>14948.0</td>\n",
       "      <td>15549.0</td>\n",
       "      <td>1518.0</td>\n",
       "      <td>1500.0</td>\n",
       "      <td>1000.0</td>\n",
       "      <td>1000.0</td>\n",
       "      <td>1000.0</td>\n",
       "      <td>5000.0</td>\n",
       "      <td>0</td>\n",
       "    </tr>\n",
       "    <tr>\n",
       "      <th>3</th>\n",
       "      <td>4</td>\n",
       "      <td>50000.0</td>\n",
       "      <td>2</td>\n",
       "      <td>2</td>\n",
       "      <td>1</td>\n",
       "      <td>37</td>\n",
       "      <td>0</td>\n",
       "      <td>0</td>\n",
       "      <td>0</td>\n",
       "      <td>0</td>\n",
       "      <td>...</td>\n",
       "      <td>28314.0</td>\n",
       "      <td>28959.0</td>\n",
       "      <td>29547.0</td>\n",
       "      <td>2000.0</td>\n",
       "      <td>2019.0</td>\n",
       "      <td>1200.0</td>\n",
       "      <td>1100.0</td>\n",
       "      <td>1069.0</td>\n",
       "      <td>1000.0</td>\n",
       "      <td>0</td>\n",
       "    </tr>\n",
       "    <tr>\n",
       "      <th>4</th>\n",
       "      <td>5</td>\n",
       "      <td>50000.0</td>\n",
       "      <td>1</td>\n",
       "      <td>2</td>\n",
       "      <td>1</td>\n",
       "      <td>57</td>\n",
       "      <td>-1</td>\n",
       "      <td>0</td>\n",
       "      <td>-1</td>\n",
       "      <td>0</td>\n",
       "      <td>...</td>\n",
       "      <td>20940.0</td>\n",
       "      <td>19146.0</td>\n",
       "      <td>19131.0</td>\n",
       "      <td>2000.0</td>\n",
       "      <td>36681.0</td>\n",
       "      <td>10000.0</td>\n",
       "      <td>9000.0</td>\n",
       "      <td>689.0</td>\n",
       "      <td>679.0</td>\n",
       "      <td>0</td>\n",
       "    </tr>\n",
       "    <tr>\n",
       "      <th>...</th>\n",
       "      <td>...</td>\n",
       "      <td>...</td>\n",
       "      <td>...</td>\n",
       "      <td>...</td>\n",
       "      <td>...</td>\n",
       "      <td>...</td>\n",
       "      <td>...</td>\n",
       "      <td>...</td>\n",
       "      <td>...</td>\n",
       "      <td>...</td>\n",
       "      <td>...</td>\n",
       "      <td>...</td>\n",
       "      <td>...</td>\n",
       "      <td>...</td>\n",
       "      <td>...</td>\n",
       "      <td>...</td>\n",
       "      <td>...</td>\n",
       "      <td>...</td>\n",
       "      <td>...</td>\n",
       "      <td>...</td>\n",
       "      <td>...</td>\n",
       "    </tr>\n",
       "    <tr>\n",
       "      <th>29995</th>\n",
       "      <td>29996</td>\n",
       "      <td>220000.0</td>\n",
       "      <td>1</td>\n",
       "      <td>3</td>\n",
       "      <td>1</td>\n",
       "      <td>39</td>\n",
       "      <td>0</td>\n",
       "      <td>0</td>\n",
       "      <td>0</td>\n",
       "      <td>0</td>\n",
       "      <td>...</td>\n",
       "      <td>88004.0</td>\n",
       "      <td>31237.0</td>\n",
       "      <td>15980.0</td>\n",
       "      <td>8500.0</td>\n",
       "      <td>20000.0</td>\n",
       "      <td>5003.0</td>\n",
       "      <td>3047.0</td>\n",
       "      <td>5000.0</td>\n",
       "      <td>1000.0</td>\n",
       "      <td>0</td>\n",
       "    </tr>\n",
       "    <tr>\n",
       "      <th>29996</th>\n",
       "      <td>29997</td>\n",
       "      <td>150000.0</td>\n",
       "      <td>1</td>\n",
       "      <td>3</td>\n",
       "      <td>2</td>\n",
       "      <td>43</td>\n",
       "      <td>-1</td>\n",
       "      <td>-1</td>\n",
       "      <td>-1</td>\n",
       "      <td>-1</td>\n",
       "      <td>...</td>\n",
       "      <td>8979.0</td>\n",
       "      <td>5190.0</td>\n",
       "      <td>0.0</td>\n",
       "      <td>1837.0</td>\n",
       "      <td>3526.0</td>\n",
       "      <td>8998.0</td>\n",
       "      <td>129.0</td>\n",
       "      <td>0.0</td>\n",
       "      <td>0.0</td>\n",
       "      <td>0</td>\n",
       "    </tr>\n",
       "    <tr>\n",
       "      <th>29997</th>\n",
       "      <td>29998</td>\n",
       "      <td>30000.0</td>\n",
       "      <td>1</td>\n",
       "      <td>2</td>\n",
       "      <td>2</td>\n",
       "      <td>37</td>\n",
       "      <td>4</td>\n",
       "      <td>3</td>\n",
       "      <td>2</td>\n",
       "      <td>-1</td>\n",
       "      <td>...</td>\n",
       "      <td>20878.0</td>\n",
       "      <td>20582.0</td>\n",
       "      <td>19357.0</td>\n",
       "      <td>0.0</td>\n",
       "      <td>0.0</td>\n",
       "      <td>22000.0</td>\n",
       "      <td>4200.0</td>\n",
       "      <td>2000.0</td>\n",
       "      <td>3100.0</td>\n",
       "      <td>1</td>\n",
       "    </tr>\n",
       "    <tr>\n",
       "      <th>29998</th>\n",
       "      <td>29999</td>\n",
       "      <td>80000.0</td>\n",
       "      <td>1</td>\n",
       "      <td>3</td>\n",
       "      <td>1</td>\n",
       "      <td>41</td>\n",
       "      <td>1</td>\n",
       "      <td>-1</td>\n",
       "      <td>0</td>\n",
       "      <td>0</td>\n",
       "      <td>...</td>\n",
       "      <td>52774.0</td>\n",
       "      <td>11855.0</td>\n",
       "      <td>48944.0</td>\n",
       "      <td>85900.0</td>\n",
       "      <td>3409.0</td>\n",
       "      <td>1178.0</td>\n",
       "      <td>1926.0</td>\n",
       "      <td>52964.0</td>\n",
       "      <td>1804.0</td>\n",
       "      <td>1</td>\n",
       "    </tr>\n",
       "    <tr>\n",
       "      <th>29999</th>\n",
       "      <td>30000</td>\n",
       "      <td>50000.0</td>\n",
       "      <td>1</td>\n",
       "      <td>2</td>\n",
       "      <td>1</td>\n",
       "      <td>46</td>\n",
       "      <td>0</td>\n",
       "      <td>0</td>\n",
       "      <td>0</td>\n",
       "      <td>0</td>\n",
       "      <td>...</td>\n",
       "      <td>36535.0</td>\n",
       "      <td>32428.0</td>\n",
       "      <td>15313.0</td>\n",
       "      <td>2078.0</td>\n",
       "      <td>1800.0</td>\n",
       "      <td>1430.0</td>\n",
       "      <td>1000.0</td>\n",
       "      <td>1000.0</td>\n",
       "      <td>1000.0</td>\n",
       "      <td>1</td>\n",
       "    </tr>\n",
       "  </tbody>\n",
       "</table>\n",
       "<p>30000 rows × 25 columns</p>\n",
       "</div>"
      ],
      "text/plain": [
       "          ID  LIMIT_BAL  SEX  EDUCATION  MARRIAGE  AGE  PAY_0  PAY_2  PAY_3  \\\n",
       "0          1    20000.0    2          2         1   24      2      2     -1   \n",
       "1          2   120000.0    2          2         2   26     -1      2      0   \n",
       "2          3    90000.0    2          2         2   34      0      0      0   \n",
       "3          4    50000.0    2          2         1   37      0      0      0   \n",
       "4          5    50000.0    1          2         1   57     -1      0     -1   \n",
       "...      ...        ...  ...        ...       ...  ...    ...    ...    ...   \n",
       "29995  29996   220000.0    1          3         1   39      0      0      0   \n",
       "29996  29997   150000.0    1          3         2   43     -1     -1     -1   \n",
       "29997  29998    30000.0    1          2         2   37      4      3      2   \n",
       "29998  29999    80000.0    1          3         1   41      1     -1      0   \n",
       "29999  30000    50000.0    1          2         1   46      0      0      0   \n",
       "\n",
       "       PAY_4  ...  BILL_AMT4  BILL_AMT5  BILL_AMT6  PAY_AMT1  PAY_AMT2  \\\n",
       "0         -1  ...        0.0        0.0        0.0       0.0     689.0   \n",
       "1          0  ...     3272.0     3455.0     3261.0       0.0    1000.0   \n",
       "2          0  ...    14331.0    14948.0    15549.0    1518.0    1500.0   \n",
       "3          0  ...    28314.0    28959.0    29547.0    2000.0    2019.0   \n",
       "4          0  ...    20940.0    19146.0    19131.0    2000.0   36681.0   \n",
       "...      ...  ...        ...        ...        ...       ...       ...   \n",
       "29995      0  ...    88004.0    31237.0    15980.0    8500.0   20000.0   \n",
       "29996     -1  ...     8979.0     5190.0        0.0    1837.0    3526.0   \n",
       "29997     -1  ...    20878.0    20582.0    19357.0       0.0       0.0   \n",
       "29998      0  ...    52774.0    11855.0    48944.0   85900.0    3409.0   \n",
       "29999      0  ...    36535.0    32428.0    15313.0    2078.0    1800.0   \n",
       "\n",
       "       PAY_AMT3  PAY_AMT4  PAY_AMT5  PAY_AMT6  default.payment.next.month  \n",
       "0           0.0       0.0       0.0       0.0                           1  \n",
       "1        1000.0    1000.0       0.0    2000.0                           1  \n",
       "2        1000.0    1000.0    1000.0    5000.0                           0  \n",
       "3        1200.0    1100.0    1069.0    1000.0                           0  \n",
       "4       10000.0    9000.0     689.0     679.0                           0  \n",
       "...         ...       ...       ...       ...                         ...  \n",
       "29995    5003.0    3047.0    5000.0    1000.0                           0  \n",
       "29996    8998.0     129.0       0.0       0.0                           0  \n",
       "29997   22000.0    4200.0    2000.0    3100.0                           1  \n",
       "29998    1178.0    1926.0   52964.0    1804.0                           1  \n",
       "29999    1430.0    1000.0    1000.0    1000.0                           1  \n",
       "\n",
       "[30000 rows x 25 columns]"
      ]
     },
     "execution_count": 2,
     "metadata": {},
     "output_type": "execute_result"
    }
   ],
   "source": [
    "# Read dataset as pandas dataframe\n",
    "credit_df = pd.read_csv(\"data/UCI_Credit_Card.csv\")\n",
    "credit_df"
   ]
  },
  {
   "cell_type": "markdown",
   "id": "aa9be2cd-d1d1-4611-ab7e-7c3e3371bca4",
   "metadata": {},
   "source": [
    "## Data splitting <a name=\"2\"></a>\n",
    "Split the data into train (70%) and test (30%) portions with `random_state=123`."
   ]
  },
  {
   "cell_type": "code",
   "execution_count": 3,
   "id": "f6d4c917-d976-46bd-b1b0-577a39e51ef9",
   "metadata": {},
   "outputs": [],
   "source": [
    "# Drop the target column\n",
    "X = credit_df.drop(columns=\"default.payment.next.month\")\n",
    "y = credit_df[\"default.payment.next.month\"]\n",
    "\n",
    "# Split dataset using train_test_split\n",
    "X_train, X_test, y_train, y_test = train_test_split(X, y, test_size=0.3, random_state=123)"
   ]
  },
  {
   "cell_type": "markdown",
   "id": "f6fb78e4-4c53-4eb7-88ad-1966e0e7e7f9",
   "metadata": {},
   "source": [
    "<!-- END QUESTION -->\n",
    "\n",
    "<br><br>"
   ]
  },
  {
   "cell_type": "markdown",
   "id": "bf20951a-0238-4687-90b9-265a5de87ec4",
   "metadata": {},
   "source": [
    "<!-- BEGIN QUESTION -->\n",
    "\n",
    "## Exploratory data analysis  <a name=\"3\"></a>"
   ]
  },
  {
   "cell_type": "code",
   "execution_count": 4,
   "id": "b2b79056-26c1-40f6-bd38-c4c8f4b96c7d",
   "metadata": {},
   "outputs": [
    {
     "name": "stdout",
     "output_type": "stream",
     "text": [
      "<class 'pandas.core.frame.DataFrame'>\n",
      "Int64Index: 21000 entries, 16395 to 19966\n",
      "Data columns (total 25 columns):\n",
      " #   Column                      Non-Null Count  Dtype  \n",
      "---  ------                      --------------  -----  \n",
      " 0   ID                          21000 non-null  int64  \n",
      " 1   LIMIT_BAL                   21000 non-null  float64\n",
      " 2   SEX                         21000 non-null  int64  \n",
      " 3   EDUCATION                   21000 non-null  int64  \n",
      " 4   MARRIAGE                    21000 non-null  int64  \n",
      " 5   AGE                         21000 non-null  int64  \n",
      " 6   PAY_0                       21000 non-null  int64  \n",
      " 7   PAY_2                       21000 non-null  int64  \n",
      " 8   PAY_3                       21000 non-null  int64  \n",
      " 9   PAY_4                       21000 non-null  int64  \n",
      " 10  PAY_5                       21000 non-null  int64  \n",
      " 11  PAY_6                       21000 non-null  int64  \n",
      " 12  BILL_AMT1                   21000 non-null  float64\n",
      " 13  BILL_AMT2                   21000 non-null  float64\n",
      " 14  BILL_AMT3                   21000 non-null  float64\n",
      " 15  BILL_AMT4                   21000 non-null  float64\n",
      " 16  BILL_AMT5                   21000 non-null  float64\n",
      " 17  BILL_AMT6                   21000 non-null  float64\n",
      " 18  PAY_AMT1                    21000 non-null  float64\n",
      " 19  PAY_AMT2                    21000 non-null  float64\n",
      " 20  PAY_AMT3                    21000 non-null  float64\n",
      " 21  PAY_AMT4                    21000 non-null  float64\n",
      " 22  PAY_AMT5                    21000 non-null  float64\n",
      " 23  PAY_AMT6                    21000 non-null  float64\n",
      " 24  default.payment.next.month  21000 non-null  int64  \n",
      "dtypes: float64(13), int64(12)\n",
      "memory usage: 4.2 MB\n"
     ]
    },
    {
     "data": {
      "text/plain": [
       "ID                            0\n",
       "LIMIT_BAL                     0\n",
       "SEX                           0\n",
       "EDUCATION                     0\n",
       "MARRIAGE                      0\n",
       "AGE                           0\n",
       "PAY_0                         0\n",
       "PAY_2                         0\n",
       "PAY_3                         0\n",
       "PAY_4                         0\n",
       "PAY_5                         0\n",
       "PAY_6                         0\n",
       "BILL_AMT1                     0\n",
       "BILL_AMT2                     0\n",
       "BILL_AMT3                     0\n",
       "BILL_AMT4                     0\n",
       "BILL_AMT5                     0\n",
       "BILL_AMT6                     0\n",
       "PAY_AMT1                      0\n",
       "PAY_AMT2                      0\n",
       "PAY_AMT3                      0\n",
       "PAY_AMT4                      0\n",
       "PAY_AMT5                      0\n",
       "PAY_AMT6                      0\n",
       "default.payment.next.month    0\n",
       "dtype: int64"
      ]
     },
     "execution_count": 4,
     "metadata": {},
     "output_type": "execute_result"
    }
   ],
   "source": [
    "### Exploratory Data Analysis on train set\n",
    "\n",
    "# Combine x-train and y-train for a complete train dataset\n",
    "train_data = pd.concat([X_train, y_train], axis=1) \n",
    "\n",
    "# Check data type for each predictor\n",
    "train_data.info()\n",
    "\n",
    "# Check the number of missing values \n",
    "train_data.isnull().sum()\n"
   ]
  },
  {
   "cell_type": "code",
   "execution_count": 5,
   "id": "352f48de-4cf7-4125-a00b-0810be666819",
   "metadata": {},
   "outputs": [
    {
     "data": {
      "text/html": [
       "<div>\n",
       "<style scoped>\n",
       "    .dataframe tbody tr th:only-of-type {\n",
       "        vertical-align: middle;\n",
       "    }\n",
       "\n",
       "    .dataframe tbody tr th {\n",
       "        vertical-align: top;\n",
       "    }\n",
       "\n",
       "    .dataframe thead th {\n",
       "        text-align: right;\n",
       "    }\n",
       "</style>\n",
       "<table border=\"1\" class=\"dataframe\">\n",
       "  <thead>\n",
       "    <tr style=\"text-align: right;\">\n",
       "      <th></th>\n",
       "      <th>ID</th>\n",
       "      <th>LIMIT_BAL</th>\n",
       "      <th>SEX</th>\n",
       "      <th>EDUCATION</th>\n",
       "      <th>MARRIAGE</th>\n",
       "      <th>AGE</th>\n",
       "      <th>PAY_0</th>\n",
       "      <th>PAY_2</th>\n",
       "      <th>PAY_3</th>\n",
       "      <th>PAY_4</th>\n",
       "      <th>...</th>\n",
       "      <th>BILL_AMT4</th>\n",
       "      <th>BILL_AMT5</th>\n",
       "      <th>BILL_AMT6</th>\n",
       "      <th>PAY_AMT1</th>\n",
       "      <th>PAY_AMT2</th>\n",
       "      <th>PAY_AMT3</th>\n",
       "      <th>PAY_AMT4</th>\n",
       "      <th>PAY_AMT5</th>\n",
       "      <th>PAY_AMT6</th>\n",
       "      <th>default.payment.next.month</th>\n",
       "    </tr>\n",
       "  </thead>\n",
       "  <tbody>\n",
       "    <tr>\n",
       "      <th>count</th>\n",
       "      <td>21000.000000</td>\n",
       "      <td>21000.000000</td>\n",
       "      <td>21000.000000</td>\n",
       "      <td>21000.000000</td>\n",
       "      <td>21000.000000</td>\n",
       "      <td>21000.000000</td>\n",
       "      <td>21000.000000</td>\n",
       "      <td>21000.000000</td>\n",
       "      <td>21000.000000</td>\n",
       "      <td>21000.000000</td>\n",
       "      <td>...</td>\n",
       "      <td>21000.000000</td>\n",
       "      <td>21000.000000</td>\n",
       "      <td>21000.000000</td>\n",
       "      <td>21000.000000</td>\n",
       "      <td>2.100000e+04</td>\n",
       "      <td>21000.000000</td>\n",
       "      <td>21000.000000</td>\n",
       "      <td>21000.000000</td>\n",
       "      <td>21000.000000</td>\n",
       "      <td>21000.000000</td>\n",
       "    </tr>\n",
       "    <tr>\n",
       "      <th>mean</th>\n",
       "      <td>14962.348238</td>\n",
       "      <td>167880.651429</td>\n",
       "      <td>1.600762</td>\n",
       "      <td>1.852143</td>\n",
       "      <td>1.554000</td>\n",
       "      <td>35.500810</td>\n",
       "      <td>-0.015429</td>\n",
       "      <td>-0.137095</td>\n",
       "      <td>-0.171619</td>\n",
       "      <td>-0.225238</td>\n",
       "      <td>...</td>\n",
       "      <td>43486.610905</td>\n",
       "      <td>40428.518333</td>\n",
       "      <td>38767.202667</td>\n",
       "      <td>5673.585143</td>\n",
       "      <td>5.895027e+03</td>\n",
       "      <td>5311.432286</td>\n",
       "      <td>4774.021381</td>\n",
       "      <td>4751.850095</td>\n",
       "      <td>5237.762190</td>\n",
       "      <td>0.223238</td>\n",
       "    </tr>\n",
       "    <tr>\n",
       "      <th>std</th>\n",
       "      <td>8650.734050</td>\n",
       "      <td>130202.682167</td>\n",
       "      <td>0.489753</td>\n",
       "      <td>0.792961</td>\n",
       "      <td>0.521675</td>\n",
       "      <td>9.212644</td>\n",
       "      <td>1.120465</td>\n",
       "      <td>1.194506</td>\n",
       "      <td>1.196123</td>\n",
       "      <td>1.168556</td>\n",
       "      <td>...</td>\n",
       "      <td>64843.303993</td>\n",
       "      <td>61187.200817</td>\n",
       "      <td>59587.689549</td>\n",
       "      <td>17033.241454</td>\n",
       "      <td>2.180143e+04</td>\n",
       "      <td>18377.997079</td>\n",
       "      <td>15434.136142</td>\n",
       "      <td>15228.193125</td>\n",
       "      <td>18116.846563</td>\n",
       "      <td>0.416427</td>\n",
       "    </tr>\n",
       "    <tr>\n",
       "      <th>min</th>\n",
       "      <td>1.000000</td>\n",
       "      <td>10000.000000</td>\n",
       "      <td>1.000000</td>\n",
       "      <td>0.000000</td>\n",
       "      <td>0.000000</td>\n",
       "      <td>21.000000</td>\n",
       "      <td>-2.000000</td>\n",
       "      <td>-2.000000</td>\n",
       "      <td>-2.000000</td>\n",
       "      <td>-2.000000</td>\n",
       "      <td>...</td>\n",
       "      <td>-50616.000000</td>\n",
       "      <td>-61372.000000</td>\n",
       "      <td>-339603.000000</td>\n",
       "      <td>0.000000</td>\n",
       "      <td>0.000000e+00</td>\n",
       "      <td>0.000000</td>\n",
       "      <td>0.000000</td>\n",
       "      <td>0.000000</td>\n",
       "      <td>0.000000</td>\n",
       "      <td>0.000000</td>\n",
       "    </tr>\n",
       "    <tr>\n",
       "      <th>25%</th>\n",
       "      <td>7498.750000</td>\n",
       "      <td>50000.000000</td>\n",
       "      <td>1.000000</td>\n",
       "      <td>1.000000</td>\n",
       "      <td>1.000000</td>\n",
       "      <td>28.000000</td>\n",
       "      <td>-1.000000</td>\n",
       "      <td>-1.000000</td>\n",
       "      <td>-1.000000</td>\n",
       "      <td>-1.000000</td>\n",
       "      <td>...</td>\n",
       "      <td>2293.750000</td>\n",
       "      <td>1739.500000</td>\n",
       "      <td>1215.750000</td>\n",
       "      <td>1000.000000</td>\n",
       "      <td>8.200000e+02</td>\n",
       "      <td>390.000000</td>\n",
       "      <td>266.000000</td>\n",
       "      <td>234.000000</td>\n",
       "      <td>110.750000</td>\n",
       "      <td>0.000000</td>\n",
       "    </tr>\n",
       "    <tr>\n",
       "      <th>50%</th>\n",
       "      <td>14960.500000</td>\n",
       "      <td>140000.000000</td>\n",
       "      <td>2.000000</td>\n",
       "      <td>2.000000</td>\n",
       "      <td>2.000000</td>\n",
       "      <td>34.000000</td>\n",
       "      <td>0.000000</td>\n",
       "      <td>0.000000</td>\n",
       "      <td>0.000000</td>\n",
       "      <td>0.000000</td>\n",
       "      <td>...</td>\n",
       "      <td>19102.500000</td>\n",
       "      <td>18083.000000</td>\n",
       "      <td>16854.500000</td>\n",
       "      <td>2100.000000</td>\n",
       "      <td>2.007000e+03</td>\n",
       "      <td>1809.500000</td>\n",
       "      <td>1500.000000</td>\n",
       "      <td>1500.000000</td>\n",
       "      <td>1500.000000</td>\n",
       "      <td>0.000000</td>\n",
       "    </tr>\n",
       "    <tr>\n",
       "      <th>75%</th>\n",
       "      <td>22458.250000</td>\n",
       "      <td>240000.000000</td>\n",
       "      <td>2.000000</td>\n",
       "      <td>2.000000</td>\n",
       "      <td>2.000000</td>\n",
       "      <td>41.000000</td>\n",
       "      <td>0.000000</td>\n",
       "      <td>0.000000</td>\n",
       "      <td>0.000000</td>\n",
       "      <td>0.000000</td>\n",
       "      <td>...</td>\n",
       "      <td>54763.250000</td>\n",
       "      <td>50491.000000</td>\n",
       "      <td>49253.750000</td>\n",
       "      <td>5007.250000</td>\n",
       "      <td>5.000000e+03</td>\n",
       "      <td>4628.500000</td>\n",
       "      <td>4021.250000</td>\n",
       "      <td>4016.000000</td>\n",
       "      <td>4000.000000</td>\n",
       "      <td>0.000000</td>\n",
       "    </tr>\n",
       "    <tr>\n",
       "      <th>max</th>\n",
       "      <td>30000.000000</td>\n",
       "      <td>1000000.000000</td>\n",
       "      <td>2.000000</td>\n",
       "      <td>6.000000</td>\n",
       "      <td>3.000000</td>\n",
       "      <td>79.000000</td>\n",
       "      <td>8.000000</td>\n",
       "      <td>8.000000</td>\n",
       "      <td>8.000000</td>\n",
       "      <td>8.000000</td>\n",
       "      <td>...</td>\n",
       "      <td>891586.000000</td>\n",
       "      <td>927171.000000</td>\n",
       "      <td>961664.000000</td>\n",
       "      <td>873552.000000</td>\n",
       "      <td>1.227082e+06</td>\n",
       "      <td>896040.000000</td>\n",
       "      <td>621000.000000</td>\n",
       "      <td>426529.000000</td>\n",
       "      <td>528666.000000</td>\n",
       "      <td>1.000000</td>\n",
       "    </tr>\n",
       "  </tbody>\n",
       "</table>\n",
       "<p>8 rows × 25 columns</p>\n",
       "</div>"
      ],
      "text/plain": [
       "                 ID       LIMIT_BAL           SEX     EDUCATION      MARRIAGE  \\\n",
       "count  21000.000000    21000.000000  21000.000000  21000.000000  21000.000000   \n",
       "mean   14962.348238   167880.651429      1.600762      1.852143      1.554000   \n",
       "std     8650.734050   130202.682167      0.489753      0.792961      0.521675   \n",
       "min        1.000000    10000.000000      1.000000      0.000000      0.000000   \n",
       "25%     7498.750000    50000.000000      1.000000      1.000000      1.000000   \n",
       "50%    14960.500000   140000.000000      2.000000      2.000000      2.000000   \n",
       "75%    22458.250000   240000.000000      2.000000      2.000000      2.000000   \n",
       "max    30000.000000  1000000.000000      2.000000      6.000000      3.000000   \n",
       "\n",
       "                AGE         PAY_0         PAY_2         PAY_3         PAY_4  \\\n",
       "count  21000.000000  21000.000000  21000.000000  21000.000000  21000.000000   \n",
       "mean      35.500810     -0.015429     -0.137095     -0.171619     -0.225238   \n",
       "std        9.212644      1.120465      1.194506      1.196123      1.168556   \n",
       "min       21.000000     -2.000000     -2.000000     -2.000000     -2.000000   \n",
       "25%       28.000000     -1.000000     -1.000000     -1.000000     -1.000000   \n",
       "50%       34.000000      0.000000      0.000000      0.000000      0.000000   \n",
       "75%       41.000000      0.000000      0.000000      0.000000      0.000000   \n",
       "max       79.000000      8.000000      8.000000      8.000000      8.000000   \n",
       "\n",
       "       ...      BILL_AMT4      BILL_AMT5      BILL_AMT6       PAY_AMT1  \\\n",
       "count  ...   21000.000000   21000.000000   21000.000000   21000.000000   \n",
       "mean   ...   43486.610905   40428.518333   38767.202667    5673.585143   \n",
       "std    ...   64843.303993   61187.200817   59587.689549   17033.241454   \n",
       "min    ...  -50616.000000  -61372.000000 -339603.000000       0.000000   \n",
       "25%    ...    2293.750000    1739.500000    1215.750000    1000.000000   \n",
       "50%    ...   19102.500000   18083.000000   16854.500000    2100.000000   \n",
       "75%    ...   54763.250000   50491.000000   49253.750000    5007.250000   \n",
       "max    ...  891586.000000  927171.000000  961664.000000  873552.000000   \n",
       "\n",
       "           PAY_AMT2       PAY_AMT3       PAY_AMT4       PAY_AMT5  \\\n",
       "count  2.100000e+04   21000.000000   21000.000000   21000.000000   \n",
       "mean   5.895027e+03    5311.432286    4774.021381    4751.850095   \n",
       "std    2.180143e+04   18377.997079   15434.136142   15228.193125   \n",
       "min    0.000000e+00       0.000000       0.000000       0.000000   \n",
       "25%    8.200000e+02     390.000000     266.000000     234.000000   \n",
       "50%    2.007000e+03    1809.500000    1500.000000    1500.000000   \n",
       "75%    5.000000e+03    4628.500000    4021.250000    4016.000000   \n",
       "max    1.227082e+06  896040.000000  621000.000000  426529.000000   \n",
       "\n",
       "            PAY_AMT6  default.payment.next.month  \n",
       "count   21000.000000                21000.000000  \n",
       "mean     5237.762190                    0.223238  \n",
       "std     18116.846563                    0.416427  \n",
       "min         0.000000                    0.000000  \n",
       "25%       110.750000                    0.000000  \n",
       "50%      1500.000000                    0.000000  \n",
       "75%      4000.000000                    0.000000  \n",
       "max    528666.000000                    1.000000  \n",
       "\n",
       "[8 rows x 25 columns]"
      ]
     },
     "execution_count": 5,
     "metadata": {},
     "output_type": "execute_result"
    }
   ],
   "source": [
    "# Summary statistics\n",
    "train_data.describe()"
   ]
  },
  {
   "cell_type": "code",
   "execution_count": 6,
   "id": "392c6c49-e11c-4e9f-af8f-8f08aff62044",
   "metadata": {},
   "outputs": [
    {
     "name": "stdout",
     "output_type": "stream",
     "text": [
      "Mean Default Rate: 22.32%\n",
      "Mean Credit Limit: 167880.65\n",
      "Mean Age: 35.50\n"
     ]
    }
   ],
   "source": [
    "# Mean of default rate, credit limit, age\n",
    "default_rate_mean = train_data['default.payment.next.month'].mean()\n",
    "avg_credit_limit_mean = train_data['LIMIT_BAL'].mean()\n",
    "age_mean = train_data['AGE'].mean()\n",
    "print(f\"Mean Default Rate: {default_rate_mean:.2%}\")\n",
    "print(f\"Mean Credit Limit: {avg_credit_limit_mean:.2f}\")\n",
    "print(f\"Mean Age: {age_mean:.2f}\")"
   ]
  },
  {
   "cell_type": "code",
   "execution_count": 7,
   "id": "61c6858e-7e14-46e5-9ed4-ae4d49358cec",
   "metadata": {},
   "outputs": [
    {
     "data": {
      "image/png": "[encoded data removed]",
      "text/plain": [
       "<Figure size 700x400 with 1 Axes>"
      ]
     },
     "metadata": {},
     "output_type": "display_data"
    }
   ],
   "source": [
    "### Visualization \n",
    "# Histogram shows the distribution of Age\n",
    "train_data['AGE'].hist(bins=50, figsize=(7, 4));\n"
   ]
  },
  {
   "cell_type": "code",
   "execution_count": 8,
   "id": "38c71be3-aa01-4289-8436-7aa41a3fe244",
   "metadata": {},
   "outputs": [
    {
     "data": {
      "text/plain": [
       "<AxesSubplot: xlabel='LIMIT_BAL', ylabel='AGE'>"
      ]
     },
     "execution_count": 8,
     "metadata": {},
     "output_type": "execute_result"
    },
    {
     "data": {
      "image/png": "[encoded data removed]",
      "text/plain": [
       "<Figure size 700x400 with 1 Axes>"
      ]
     },
     "metadata": {},
     "output_type": "display_data"
    }
   ],
   "source": [
    "# Scatter plot shows the distribution of Age\n",
    "train_data.plot.scatter(x='LIMIT_BAL', y='AGE', alpha=0.5, figsize=(7, 4))"
   ]
  },
  {
   "cell_type": "code",
   "execution_count": 9,
   "id": "d8df3786-6ec5-46a1-9375-e4d1022b78e8",
   "metadata": {},
   "outputs": [
    {
     "data": {
      "text/plain": [
       "<AxesSubplot: title={'center': 'LIMIT_BAL'}, ylabel='default.payment.next.month'>"
      ]
     },
     "execution_count": 9,
     "metadata": {},
     "output_type": "execute_result"
    },
    {
     "data": {
      "image/png": "[encoded data removed]",
      "text/plain": [
       "<Figure size 700x400 with 1 Axes>"
      ]
     },
     "metadata": {},
     "output_type": "display_data"
    }
   ],
   "source": [
    "# Box Plot shows the distribution of Credit Limits by Default Status \n",
    "train_data.boxplot(column='LIMIT_BAL', by='default.payment.next.month', figsize=(7, 4), vert=False)"
   ]
  },
  {
   "cell_type": "markdown",
   "id": "8e68f126-72f7-4972-bcdb-d3dc54c9013f",
   "metadata": {},
   "source": [
    "Observations of the data\n",
    "- Default Rate: The average default rate in the training set is approximately 22.32%, indicating that about one-fifth of clients have defaulted on their credit card payments.\n",
    "The standard deviation of 41.64% suggests a considerable variability in default rates among clients.\n",
    "- Average Credit Limit: The average credit limit is 167,880.65 NT dollars, with a significant standard deviation of 130,202.68 NT dollars, indicating a wide range of credit limits among clients.\n",
    "- Age Distribution: The age distribution among clients in the training set varies, with a mean age of 35.50 years.\n"
   ]
  },
  {
   "cell_type": "markdown",
   "id": "f574ed33-9a7e-428f-8413-74d8912bb10b",
   "metadata": {},
   "source": [
    "<!-- END QUESTION -->\n",
    "\n",
    "<br><br>"
   ]
  },
  {
   "cell_type": "markdown",
   "id": "97d9c911-f485-4030-930f-9d88e70f2714",
   "metadata": {},
   "source": [
    "## Feature engineering <a name=\"4\"></a>\n",
    "I extracted new features relevant for the problem and work with my new feature set."
   ]
  },
  {
   "cell_type": "markdown",
   "id": "2f1ccd13-91e0-4a40-985c-ce13c92347bf",
   "metadata": {},
   "source": [
    "Credit Utilization - the ratio of the total bill amounts to the total credit limit will provide a measure of credit utilization. \n",
    "We chose this for the predictive model as high credit utilization may indicate financial stress."
   ]
  },
  {
   "cell_type": "code",
   "execution_count": 10,
   "id": "3224ad30-1875-4391-b4a3-98f554d9060a",
   "metadata": {},
   "outputs": [],
   "source": [
    "# Credit Utilization\n",
    "X_train['Credit_Utilization'] = X_train[['BILL_AMT1', 'BILL_AMT2', 'BILL_AMT3', \n",
    "                                         'BILL_AMT4', 'BILL_AMT5', 'BILL_AMT6']].sum(axis=1) / (X_train['LIMIT_BAL'] * 6)\n",
    "X_test['Credit_Utilization'] = X_test[['BILL_AMT1', 'BILL_AMT2', 'BILL_AMT3', \n",
    "                                         'BILL_AMT4', 'BILL_AMT5', 'BILL_AMT6']].sum(axis=1) / (X_test['LIMIT_BAL'] * 6)"
   ]
  },
  {
   "cell_type": "markdown",
   "id": "fa931bb0-bc94-47fa-8ef4-a180c553ee0e",
   "metadata": {},
   "source": [
    "Total number of months in delay - count the number of months with a delay (values greater than 0) for each row, and then sums them up to create a new feature."
   ]
  },
  {
   "cell_type": "code",
   "execution_count": 11,
   "id": "01adb075-d209-4027-b7e6-5d0e1979fc67",
   "metadata": {},
   "outputs": [],
   "source": [
    "# Columns representing repayment status\n",
    "repayment_columns = ['PAY_0', 'PAY_2', 'PAY_3', 'PAY_4', 'PAY_5', 'PAY_6']\n",
    " \n",
    "# Total_Months_Delay\n",
    "X_train['Total_Months_Delay'] = X_train[repayment_columns].apply(lambda row: (row > 0).sum(), axis=1)\n",
    "X_test['Total_Months_Delay'] = X_test[repayment_columns].apply(lambda row: (row > 0).sum(), axis=1)\n"
   ]
  },
  {
   "cell_type": "markdown",
   "id": "5e5abdda-4f33-4d20-9f01-1685b230b872",
   "metadata": {},
   "source": [
    "Average Delay Duration - calculate the mean of positive values (months in delay) for each row, creating a new feature that represents the average delay duration."
   ]
  },
  {
   "cell_type": "code",
   "execution_count": 12,
   "id": "e63434ec-9a7b-4b08-adec-d605cd294afa",
   "metadata": {},
   "outputs": [],
   "source": [
    "# Average Delay Duration\n",
    "X_train['Average_Delay_Duration'] = X_train[repayment_columns].apply(lambda row: row[row > 0].mean(), axis=1)\n",
    "X_test['Average_Delay_Duration'] = X_test[repayment_columns].apply(lambda row: row[row > 0].mean(), axis=1)"
   ]
  },
  {
   "cell_type": "markdown",
   "id": "ac7a67f3-5577-4d4d-a925-3e989fc9c2ae",
   "metadata": {},
   "source": [
    "<!-- END QUESTION -->\n",
    "\n",
    "<br><br>"
   ]
  },
  {
   "cell_type": "markdown",
   "id": "40db050b-4fae-43eb-aab3-7825070eb4e2",
   "metadata": {},
   "source": [
    "## Preprocessing and transformations <a name=\"5\"></a>\n",
    "Here I identified different feature types and the transformations I applied on each feature type."
   ]
  },
  {
   "cell_type": "markdown",
   "id": "9de0ec85-56fd-4928-b66d-928093fed99a",
   "metadata": {},
   "source": [
    "Steps:\n",
    "1. Check to confirm any missing value\n",
    "2. Imputing columns with NaN values \n",
    "3. Encoding Categorical Features ('SEX', 'EDUCATION', 'MARRIAGE') using one-hot encoding, to prevent ordinal misinterpretation, improved model performance, avoid magnitude bias.\n",
    "4. Scaling Numeric Features ('LIMIT_BAL', 'AGE', 'PAY_AMT1', 'BILL_AMT1', etc.) "
   ]
  },
  {
   "cell_type": "code",
   "execution_count": 13,
   "id": "46f96db5-02ea-4070-ba09-796f57129c91",
   "metadata": {},
   "outputs": [
    {
     "data": {
      "text/plain": [
       "ID                            0\n",
       "LIMIT_BAL                     0\n",
       "SEX                           0\n",
       "EDUCATION                     0\n",
       "MARRIAGE                      0\n",
       "AGE                           0\n",
       "PAY_0                         0\n",
       "PAY_2                         0\n",
       "PAY_3                         0\n",
       "PAY_4                         0\n",
       "PAY_5                         0\n",
       "PAY_6                         0\n",
       "BILL_AMT1                     0\n",
       "BILL_AMT2                     0\n",
       "BILL_AMT3                     0\n",
       "BILL_AMT4                     0\n",
       "BILL_AMT5                     0\n",
       "BILL_AMT6                     0\n",
       "PAY_AMT1                      0\n",
       "PAY_AMT2                      0\n",
       "PAY_AMT3                      0\n",
       "PAY_AMT4                      0\n",
       "PAY_AMT5                      0\n",
       "PAY_AMT6                      0\n",
       "Credit_Utilization            0\n",
       "Total_Months_Delay            0\n",
       "Average_Delay_Duration    13991\n",
       "dtype: int64"
      ]
     },
     "execution_count": 13,
     "metadata": {},
     "output_type": "execute_result"
    }
   ],
   "source": [
    "missing_values = X_train.isnull().sum()\n",
    "missing_values"
   ]
  },
  {
   "cell_type": "code",
   "execution_count": 14,
   "id": "139c38e4-0a48-453f-8e6a-e4fea650ddc8",
   "metadata": {},
   "outputs": [],
   "source": [
    "### Encoding Categorical Features ('SEX', 'EDUCATION', 'MARRIAGE') using one-hot encoding\n",
    "categorical_columns = ['SEX', 'EDUCATION', 'MARRIAGE']\n",
    "\n",
    "# Apply one-hot encoding to both training and test sets\n",
    "X_train = pd.get_dummies(X_train, columns=categorical_columns)\n",
    "X_test = pd.get_dummies(X_test, columns=categorical_columns)"
   ]
  },
  {
   "cell_type": "code",
   "execution_count": 15,
   "id": "acfa45b9-aea6-4675-83a4-8acc0f2f45f8",
   "metadata": {},
   "outputs": [],
   "source": [
    "### Scaling Numeric Features\n",
    "numeric_columns = ['LIMIT_BAL', 'AGE', 'PAY_AMT1','PAY_AMT2','PAY_AMT3','PAY_AMT4','PAY_AMT5', 'PAY_AMT6', 'BILL_AMT1','BILL_AMT2',\n",
    "                   'BILL_AMT3','BILL_AMT4','BILL_AMT5','BILL_AMT6',]\n",
    "# Initialize the StandardScaler\n",
    "scaler = StandardScaler()\n",
    "# Fit and transform the scaler on the training set\n",
    "X_train[numeric_columns] = scaler.fit_transform(X_train[numeric_columns])\n",
    "# Same to the test set\n",
    "X_test[numeric_columns] = scaler.transform(X_test[numeric_columns])"
   ]
  },
  {
   "cell_type": "code",
   "execution_count": 16,
   "id": "6aabbe64-f125-439c-8656-1d8d26cbf3e0",
   "metadata": {},
   "outputs": [
    {
     "name": "stdout",
     "output_type": "stream",
     "text": [
      "ID                            0\n",
      "LIMIT_BAL                     0\n",
      "AGE                           0\n",
      "PAY_0                         0\n",
      "PAY_2                         0\n",
      "PAY_3                         0\n",
      "PAY_4                         0\n",
      "PAY_5                         0\n",
      "PAY_6                         0\n",
      "BILL_AMT1                     0\n",
      "BILL_AMT2                     0\n",
      "BILL_AMT3                     0\n",
      "BILL_AMT4                     0\n",
      "BILL_AMT5                     0\n",
      "BILL_AMT6                     0\n",
      "PAY_AMT1                      0\n",
      "PAY_AMT2                      0\n",
      "PAY_AMT3                      0\n",
      "PAY_AMT4                      0\n",
      "PAY_AMT5                      0\n",
      "PAY_AMT6                      0\n",
      "Credit_Utilization            0\n",
      "Total_Months_Delay            0\n",
      "Average_Delay_Duration    13991\n",
      "SEX_1                         0\n",
      "SEX_2                         0\n",
      "EDUCATION_0                   0\n",
      "EDUCATION_1                   0\n",
      "EDUCATION_2                   0\n",
      "EDUCATION_3                   0\n",
      "EDUCATION_4                   0\n",
      "EDUCATION_5                   0\n",
      "EDUCATION_6                   0\n",
      "MARRIAGE_0                    0\n",
      "MARRIAGE_1                    0\n",
      "MARRIAGE_2                    0\n",
      "MARRIAGE_3                    0\n",
      "dtype: int64\n",
      "False False\n"
     ]
    }
   ],
   "source": [
    "# Check for NaN values\n",
    "print(X_train.isnull().sum())\n",
    "\n",
    "# Check for infinite or large values in the dataset\n",
    "print(np.any(np.isinf(X_train)), np.all(np.isfinite(X_train)))\n"
   ]
  },
  {
   "cell_type": "code",
   "execution_count": 17,
   "id": "a3981929-b1ac-485f-8ba5-34473e6c2204",
   "metadata": {},
   "outputs": [],
   "source": [
    "# Group columns with NaN values\n",
    "nan_columns = ['Average_Delay_Duration']\n",
    "\n",
    "# Impute NaN values with the mean\n",
    "imputer = SimpleImputer(strategy='mean')\n",
    "X_train[nan_columns] = imputer.fit_transform(X_train[nan_columns])\n",
    "X_test[nan_columns] = imputer.transform(X_test[nan_columns])"
   ]
  },
  {
   "cell_type": "markdown",
   "id": "edaa43b5-affc-495e-9670-3b6a1460d8d2",
   "metadata": {},
   "source": [
    "To this point, we have these columns: \n",
    "- ID, LIMIT_BAL, AGE: Numeric features.\n",
    "- PAY_0 to PAY_6: Categorical features representing repayment status.\n",
    "- BILL_AMT1 to BILL_AMT6: Numeric features representing bill amounts.\n",
    "- PAY_AMT1 to PAY_AMT6: Numeric features representing previous payment amounts.\n",
    "- Payment_Bill_Ratio, Credit_Utilization: Derived features from bill and payment amounts.\n",
    "- Total_Months_Delay, Average_Delay_Duration: Newly engineered features capturing information about the repayment status over time.\n",
    "- SEX_1, SEX_2, EDUCATION_0 to EDUCATION_6, MARRIAGE_0 to MARRIAGE_3: One-hot encoded categorical features."
   ]
  },
  {
   "cell_type": "markdown",
   "id": "339066b5-ce50-461c-ad53-f6dce7c63229",
   "metadata": {},
   "source": [
    "<!-- END QUESTION -->\n",
    "\n",
    "<br><br>"
   ]
  },
  {
   "cell_type": "markdown",
   "id": "2945abb4-5e32-416d-8d44-e89500d2e288",
   "metadata": {},
   "source": [
    "## Baseline model <a name=\"6\"></a>\n",
    "I tried `scikit-learn`'s baseline model and see the results."
   ]
  },
  {
   "cell_type": "code",
   "execution_count": 18,
   "id": "84ed7cae-3d5c-49ef-bb92-5890f6569111",
   "metadata": {},
   "outputs": [
    {
     "name": "stdout",
     "output_type": "stream",
     "text": [
      "Accuracy: 0.7835555555555556\n",
      "Confusion Matrix:\n",
      "[[7052    0]\n",
      " [1948    0]]\n",
      "Classification Report:\n",
      "              precision    recall  f1-score   support\n",
      "\n",
      "           0       0.78      1.00      0.88      7052\n",
      "           1       0.00      0.00      0.00      1948\n",
      "\n",
      "    accuracy                           0.78      9000\n",
      "   macro avg       0.39      0.50      0.44      9000\n",
      "weighted avg       0.61      0.78      0.69      9000\n",
      "\n"
     ]
    },
    {
     "name": "stderr",
     "output_type": "stream",
     "text": [
      "/Users/jeannevo/miniconda3/envs/csc4800/lib/python3.10/site-packages/sklearn/metrics/_classification.py:1469: UndefinedMetricWarning: Precision and F-score are ill-defined and being set to 0.0 in labels with no predicted samples. Use `zero_division` parameter to control this behavior.\n",
      "  _warn_prf(average, modifier, msg_start, len(result))\n",
      "/Users/jeannevo/miniconda3/envs/csc4800/lib/python3.10/site-packages/sklearn/metrics/_classification.py:1469: UndefinedMetricWarning: Precision and F-score are ill-defined and being set to 0.0 in labels with no predicted samples. Use `zero_division` parameter to control this behavior.\n",
      "  _warn_prf(average, modifier, msg_start, len(result))\n",
      "/Users/jeannevo/miniconda3/envs/csc4800/lib/python3.10/site-packages/sklearn/metrics/_classification.py:1469: UndefinedMetricWarning: Precision and F-score are ill-defined and being set to 0.0 in labels with no predicted samples. Use `zero_division` parameter to control this behavior.\n",
      "  _warn_prf(average, modifier, msg_start, len(result))\n"
     ]
    }
   ],
   "source": [
    "# Create a classifier object\n",
    "baseline_classifer = DummyClassifier(strategy=\"most_frequent\")\n",
    "\n",
    "# Fit the classifier\n",
    "baseline_classifer.fit(X_train, y_train)\n",
    "\n",
    "# Predict using the trained classifier\n",
    "y_pred = baseline_classifer.predict(X_test) \n",
    "\n",
    "# Results of the model\n",
    "accuracy = accuracy_score(y_test, y_pred)\n",
    "conf_matrix = confusion_matrix(y_test, y_pred)\n",
    "classification_rep = classification_report(y_test, y_pred)\n",
    "\n",
    "print(f\"Accuracy: {accuracy}\")\n",
    "print(f\"Confusion Matrix:\\n{conf_matrix}\")\n",
    "print(f\"Classification Report:\\n{classification_rep}\")"
   ]
  },
  {
   "cell_type": "markdown",
   "id": "92f03822-efb2-4ce7-855a-aaa902635b5f",
   "metadata": {},
   "source": [
    "<!-- END QUESTION -->\n",
    "\n",
    "<br><br>"
   ]
  },
  {
   "cell_type": "markdown",
   "id": "c99b84b4-06a2-4ca6-bab9-7d1996c47b90",
   "metadata": {},
   "source": [
    "## Linear models <a name=\"7\"></a>\n",
    "For my first real attempt, I tried a linear model:  Linear SVM - SVC Model. I also carried out hyperparameter tuning to explore different values for the complexity hyperparameter using RandomizedSearchCV, and reported cross-validation scores along with standard deviation."
   ]
  },
  {
   "cell_type": "code",
   "execution_count": 19,
   "id": "a4881f8e-943d-4f65-bf0f-25e42cce47e7",
   "metadata": {},
   "outputs": [
    {
     "name": "stdout",
     "output_type": "stream",
     "text": [
      "                 ID     LIMIT_BAL           AGE         PAY_0         PAY_2  \\\n",
      "count  21000.000000  2.100000e+04  2.100000e+04  21000.000000  21000.000000   \n",
      "mean   14962.348238 -5.278317e-17  1.651166e-16     -0.015429     -0.137095   \n",
      "std     8650.734050  1.000024e+00  1.000024e+00      1.120465      1.194506   \n",
      "min        1.000000 -1.212605e+00 -1.574049e+00     -2.000000     -2.000000   \n",
      "25%     7498.750000 -9.053843e-01 -8.142058e-01     -1.000000     -1.000000   \n",
      "50%    14960.500000 -2.141378e-01 -1.629115e-01      0.000000      0.000000   \n",
      "75%    22458.250000  5.539138e-01  5.969320e-01      0.000000      0.000000   \n",
      "max    30000.000000  6.391106e+00  4.721796e+00      8.000000      8.000000   \n",
      "\n",
      "              PAY_3         PAY_4         PAY_5         PAY_6     BILL_AMT1  \\\n",
      "count  21000.000000  21000.000000  21000.000000  21000.000000  2.100000e+04   \n",
      "mean      -0.171619     -0.225238     -0.264429     -0.295095  3.823397e-17   \n",
      "std        1.196123      1.168556      1.137205      1.147992  1.000024e+00   \n",
      "min       -2.000000     -2.000000     -2.000000     -2.000000 -9.043219e-01   \n",
      "25%       -1.000000     -1.000000     -1.000000     -1.000000 -6.461978e-01   \n",
      "50%        0.000000      0.000000      0.000000      0.000000 -3.924650e-01   \n",
      "75%        0.000000      0.000000      0.000000      0.000000  2.161175e-01   \n",
      "max        8.000000      8.000000      8.000000      8.000000  1.243701e+01   \n",
      "\n",
      "       ...   EDUCATION_1   EDUCATION_2   EDUCATION_3   EDUCATION_4  \\\n",
      "count  ...  21000.000000  21000.000000  21000.000000  21000.000000   \n",
      "mean   ...      0.353952      0.467381      0.162667      0.003857   \n",
      "std    ...      0.478206      0.498947      0.369070      0.061987   \n",
      "min    ...      0.000000      0.000000      0.000000      0.000000   \n",
      "25%    ...      0.000000      0.000000      0.000000      0.000000   \n",
      "50%    ...      0.000000      0.000000      0.000000      0.000000   \n",
      "75%    ...      1.000000      1.000000      0.000000      0.000000   \n",
      "max    ...      1.000000      1.000000      1.000000      1.000000   \n",
      "\n",
      "        EDUCATION_5   EDUCATION_6    MARRIAGE_0    MARRIAGE_1    MARRIAGE_2  \\\n",
      "count  21000.000000  21000.000000  21000.000000  21000.000000  21000.000000   \n",
      "mean       0.010000      0.001667      0.001619      0.453667      0.533810   \n",
      "std        0.099501      0.040792      0.040206      0.497860      0.498867   \n",
      "min        0.000000      0.000000      0.000000      0.000000      0.000000   \n",
      "25%        0.000000      0.000000      0.000000      0.000000      0.000000   \n",
      "50%        0.000000      0.000000      0.000000      0.000000      1.000000   \n",
      "75%        0.000000      0.000000      0.000000      1.000000      1.000000   \n",
      "max        1.000000      1.000000      1.000000      1.000000      1.000000   \n",
      "\n",
      "         MARRIAGE_3  \n",
      "count  21000.000000  \n",
      "mean       0.010905  \n",
      "std        0.103857  \n",
      "min        0.000000  \n",
      "25%        0.000000  \n",
      "50%        0.000000  \n",
      "75%        0.000000  \n",
      "max        1.000000  \n",
      "\n",
      "[8 rows x 37 columns]\n"
     ]
    }
   ],
   "source": [
    "# Display summary statistics of the features\n",
    "print(X_train.describe())"
   ]
  },
  {
   "cell_type": "code",
   "execution_count": 22,
   "id": "99d42caa-ab0a-4f6e-b7f6-e6591e1ba003",
   "metadata": {},
   "outputs": [
    {
     "name": "stdout",
     "output_type": "stream",
     "text": [
      "Linear SVM:\n",
      "Best Hyperparameters: {'svc__C': 0.1}\n",
      "Cross-Validation Scores: [0.81285714 0.81       0.81833333 0.81619048 0.81380952]\n",
      "Mean Cross-Validation Score: 0.8142380952380952\n",
      "Standard Deviation of Cross-Validation Scores: 0.0028507865803991954\n"
     ]
    }
   ],
   "source": [
    "# Define the pipeline with StandardScaler and Support Vector Machine\n",
    "model = make_pipeline(StandardScaler(), SVC(kernel='linear'))\n",
    "\n",
    "# Define the hyperparameter distribution to search\n",
    "param_dist = {'svc__C': [ 0.1, 1, 10]}\n",
    "\n",
    "# Use RandomizedSearchCV for hyperparameter tuning\n",
    "random_search = RandomizedSearchCV(model, param_distributions=param_dist, cv=3, scoring='accuracy', n_iter=3, n_jobs=-1)\n",
    "random_search.fit(X_train, y_train)\n",
    "\n",
    "# Get the best hyperparameters\n",
    "best_params = random_search.best_params_\n",
    "\n",
    "# Get the cross-validation scores and standard deviation\n",
    "cv_scores = cross_val_score(random_search.best_estimator_, X_train, y_train, cv=5)\n",
    "cv_mean = np.mean(cv_scores)\n",
    "cv_std = np.std(cv_scores)\n",
    "\n",
    "# Print the results\n",
    "print(\"Linear SVM:\")\n",
    "print(f\"Best Hyperparameters: {best_params}\")\n",
    "print(f\"Cross-Validation Scores: {cv_scores}\")\n",
    "print(f\"Mean Cross-Validation Score: {cv_mean}\")\n",
    "print(f\"Standard Deviation of Cross-Validation Scores: {cv_std}\")"
   ]
  },
  {
   "cell_type": "markdown",
   "id": "0e728663-21a0-4e6c-8937-3962ac14023c",
   "metadata": {},
   "source": [
    "Linear SVM Model Summary:\n",
    "- Best Hyperparameters: {'svc__C': 0.1}\n",
    "- Cross-Validation Scores:\n",
    "    + Fold 1: 0.8129\n",
    "    + Fold 2: 0.81\n",
    "    + Fold 3: 0.8183\n",
    "    + Fold 4: 0.8162\n",
    "    + Fold 5: 0.8138\n",
    "- Mean Cross-Validation Score: 0.8142\n",
    "- Standard Deviation of Cross-Validation Scores: 0.0029\n",
    "Interpretation:\n",
    "The Linear SVM model with a complexity hyperparameter (C) of 0.1 yields a mean cross-validation accuracy of approximately 81.42%. The model gives a consistent performance across different folds, with a low standard deviation of 0.0029. It suggests stability in the model's generalization to unseen data."
   ]
  },
  {
   "cell_type": "markdown",
   "id": "655bcf9c-9646-483f-b563-61c0d5869167",
   "metadata": {},
   "source": [
    "<!-- END QUESTION -->\n",
    "\n",
    "<br><br>"
   ]
  },
  {
   "cell_type": "markdown",
   "id": "cbd67292-8e6d-4d92-8841-4673d8f18d52",
   "metadata": {},
   "source": [
    "## Different models <a name=\"8\"></a>\n",
    "Here I tried 3 other models aside from a linear model above: Decision Tree, Random Forest, and kNNs."
   ]
  },
  {
   "cell_type": "markdown",
   "id": "020ccda9-2463-4c0b-9fbe-5eeb3f0e9462",
   "metadata": {},
   "source": [
    "Decision Tree "
   ]
  },
  {
   "cell_type": "code",
   "execution_count": 27,
   "id": "47fefe36-5f4c-499f-a7b5-59ab7bca0dfd",
   "metadata": {},
   "outputs": [
    {
     "name": "stdout",
     "output_type": "stream",
     "text": [
      "Decision Tree:\n",
      "Cross-Validation Scores: [0.74857143 0.74809524 0.75190476 0.75595238 0.74333333]\n",
      "Mean Cross-Validation Score: 0.7495714285714284\n",
      "Standard Deviation of Cross-Validation Scores: 0.004201284761926241\n"
     ]
    }
   ],
   "source": [
    "# Define the Decision Tree model\n",
    "dtree_model = DecisionTreeClassifier()\n",
    "\n",
    "# Define the hyperparameter distribution to search\n",
    "param_dist = {\n",
    "    'criterion': ['gini', 'entropy'],\n",
    "    'max_depth': [None, 10, 20, 30, 40, 50],\n",
    "    'min_samples_split': [2, 5, 10],\n",
    "    'min_samples_leaf': [1, 2, 4]\n",
    "}\n",
    "\n",
    "# Use RandomizedSearchCV for hyperparameter tuning\n",
    "random_search_dtree = RandomizedSearchCV(dtree_model, param_distributions=param_dist, cv=3, scoring='accuracy', n_iter=3, n_jobs=-1)\n",
    "random_search_dtree.fit(X_train, y_train)\n",
    "\n",
    "# Get the best hyperparameters\n",
    "best_params_dtree = random_search_dtree.best_params_\n",
    "\n",
    "# Get the cross-validation scores and standard deviation\n",
    "cv_scores_dtree = cross_val_score(random_search_dtree.best_estimator_, X_train, y_train, cv=5)\n",
    "cv_mean_dtree = np.mean(cv_scores_dtree)\n",
    "cv_std_dtree = np.std(cv_scores_dtree)\n",
    "\n",
    "# Print the results\n",
    "print(\"Decision Tree:\")\n",
    "print(f\"Cross-Validation Scores: {cv_scores_dtree}\")\n",
    "print(f\"Mean Cross-Validation Score: {cv_mean_dtree}\")\n",
    "print(f\"Standard Deviation of Cross-Validation Scores: {cv_std_dtree}\")"
   ]
  },
  {
   "cell_type": "markdown",
   "id": "8ad57774-8cd3-4191-8b19-d03c91bd6590",
   "metadata": {},
   "source": [
    "Random Forest"
   ]
  },
  {
   "cell_type": "code",
   "execution_count": 28,
   "id": "a5fc6973-9de1-498e-952e-c20d178630ef",
   "metadata": {},
   "outputs": [
    {
     "name": "stdout",
     "output_type": "stream",
     "text": [
      "Random Forest:\n",
      "Cross-Validation Scores: [0.8152381  0.81809524 0.82166667 0.82571429 0.8202381 ]\n",
      "Mean Cross-Validation Score: 0.8201904761904762\n",
      "Standard Deviation of Cross-Validation Scores: 0.00351026999885375\n"
     ]
    }
   ],
   "source": [
    "# Define the pipeline with StandardScaler and Random Forest\n",
    "model_rf = make_pipeline(StandardScaler(), RandomForestClassifier())\n",
    "\n",
    "# Define the hyperparameter distribution to search\n",
    "param_dist_rf = {'randomforestclassifier__n_estimators': [10, 50, 100, 200],\n",
    "                 'randomforestclassifier__max_depth': [None, 10, 20, 30]}\n",
    "\n",
    "# Use RandomizedSearchCV for hyperparameter tuning\n",
    "random_search_rf = RandomizedSearchCV(model_rf, param_distributions=param_dist_rf, cv=3, scoring='accuracy', n_iter=3, n_jobs=-1, random_state=42)\n",
    "random_search_rf.fit(X_train, y_train)\n",
    "\n",
    "# Get the best hyperparameters\n",
    "best_params_rf = random_search_rf.best_params_\n",
    "\n",
    "# Get the cross-validation scores and standard deviation\n",
    "cv_scores_rf = cross_val_score(random_search_rf.best_estimator_, X_train, y_train, cv=5)\n",
    "cv_mean_rf = np.mean(cv_scores_rf)\n",
    "cv_std_rf = np.std(cv_scores_rf)\n",
    "\n",
    "# Print the results for Random Forest\n",
    "print(\"Random Forest:\")\n",
    "print(f\"Cross-Validation Scores: {cv_scores_rf}\")\n",
    "print(f\"Mean Cross-Validation Score: {cv_mean_rf}\")\n",
    "print(f\"Standard Deviation of Cross-Validation Scores: {cv_std_rf}\")\n"
   ]
  },
  {
   "cell_type": "markdown",
   "id": "55f584eb-0abe-4882-9655-ef182d745efe",
   "metadata": {},
   "source": [
    "k-Nearest Neighbors (kNNs)"
   ]
  },
  {
   "cell_type": "code",
   "execution_count": 29,
   "id": "20f3b92d-3cb7-46f7-aef9-233b630da256",
   "metadata": {},
   "outputs": [
    {
     "name": "stdout",
     "output_type": "stream",
     "text": [
      "\n",
      "k-Nearest Neighbors:\n",
      "Cross-Validation Scores: [0.78738095 0.78857143 0.79857143 0.79619048 0.78761905]\n",
      "Mean Cross-Validation Score: 0.7916666666666667\n",
      "Standard Deviation of Cross-Validation Scores: 0.004742818894471899\n"
     ]
    }
   ],
   "source": [
    "# Define the pipeline with StandardScaler and k-Nearest Neighbors\n",
    "model_knn = make_pipeline(StandardScaler(), KNeighborsClassifier())\n",
    "\n",
    "# Define the hyperparameter distribution to search\n",
    "param_dist_knn = {'kneighborsclassifier__n_neighbors': [3, 5, 7, 10],\n",
    "                  'kneighborsclassifier__weights': ['uniform', 'distance'],\n",
    "                  'kneighborsclassifier__p': [1, 2]}\n",
    "\n",
    "# Use RandomizedSearchCV for hyperparameter tuning\n",
    "random_search_knn = RandomizedSearchCV(model_knn, param_distributions=param_dist_knn, cv=3, scoring='accuracy', n_iter=3, n_jobs=-1, random_state=42)\n",
    "random_search_knn.fit(X_train, y_train)\n",
    "\n",
    "# Get the best hyperparameters\n",
    "best_params_knn = random_search_knn.best_params_\n",
    "\n",
    "# Get the cross-validation scores and standard deviation\n",
    "cv_scores_knn = cross_val_score(random_search_knn.best_estimator_, X_train, y_train, cv=5)\n",
    "cv_mean_knn = np.mean(cv_scores_knn)\n",
    "cv_std_knn = np.std(cv_scores_knn)\n",
    "\n",
    "# Print the results for k-Nearest Neighbors\n",
    "print(\"\\nk-Nearest Neighbors:\")\n",
    "print(f\"Cross-Validation Scores: {cv_scores_knn}\")\n",
    "print(f\"Mean Cross-Validation Score: {cv_mean_knn}\")\n",
    "print(f\"Standard Deviation of Cross-Validation Scores: {cv_std_knn}\")\n"
   ]
  },
  {
   "cell_type": "markdown",
   "id": "82e5f6d4-598c-4985-b8df-27f25cc79bd5",
   "metadata": {},
   "source": [
    "Linear SVM:\n",
    "- Mean Cross-Validation Score: 0.8142\n",
    "- Standard Deviation of Cross-Validation Scores: 0.0029\n",
    "- Interpretation: The Linear SVM model achieved a relatively high mean cross-validation accuracy with low variability.\n",
    "  \n",
    "Decision Tree:\n",
    "- Mean Cross-Validation Score: 0.7496\n",
    "- Standard Deviation of Cross-Validation Scores: 0.0042\n",
    "- Interpretation: The Decision Tree model showed a lower mean accuracy compared to the Linear SVM, and there is a slightly higher standard deviation, indicating a bit more variability.\n",
    "  \n",
    "Random Forest:\n",
    "- Mean Cross-Validation Score: 0.8202\n",
    "- Standard Deviation of Cross-Validation Scores: 0.0035\n",
    "- Interpretation: The Random Forest model demonstrated the highest mean accuracy among the models, and the standard deviation is relatively low, suggesting good stability.\n",
    "  \n",
    "k-Nearest Neighbors (kNN):\n",
    "- Mean Cross-Validation Score: 0.7917\n",
    "- Standard Deviation of Cross-Validation Scores: 0.0047\n",
    "- Interpretation: The kNN model falls between the Linear SVM and Random Forest in terms of mean accuracy, and its standard deviation is comparable to the Linear SVM.\n",
    "  \n",
    "Overfitting/Underfitting:\n",
    "- The Linear SVM and Random Forest models appear to generalize well, as indicated by their relatively high mean cross-validation scores and low standard deviations.\n",
    "- The Decision Tree and kNN models exhibit slightly lower mean accuracies and somewhat higher standard deviations, suggesting some sensitivity to the dataset or potential overfitting.\n",
    "  \n",
    "Fit and Score Times:\n",
    "- The Linear SVM model tends to have faster training times compared to ensemble models like Random Forest.\n",
    "- Random Forest, while achieving high accuracy, may require more training time due to its ensemble nature.\n",
    "- kNN may have longer prediction times, especially as the dataset size increases, as it involves computing distances between points.\n",
    "\n",
    "\n",
    "While Random Forest model and Linear SVM perform well with high mean accuracy and stability, since we priority accuracy and speed, Random Forest seems like a strong candidate among those models."
   ]
  },
  {
   "cell_type": "markdown",
   "id": "4dc7c626-ee09-43b6-b077-796d2730ccfd",
   "metadata": {},
   "source": [
    "<!-- END QUESTION -->\n",
    "\n",
    "<br><br>"
   ]
  },
  {
   "cell_type": "markdown",
   "id": "ba56ef53-de77-4aa9-8d1d-b0eb2eb099d2",
   "metadata": {},
   "source": [
    "\n",
    "## Interpretation and feature importances <a name=\"11\"></a>\n",
    "Here I utilized the feature_importances_ attribute of our trained Random Forest model. to examine the most important features of one of the non-linear models."
   ]
  },
  {
   "cell_type": "code",
   "execution_count": 35,
   "id": "1014cffd-01df-4c05-b522-dc0dd4f8ca24",
   "metadata": {},
   "outputs": [
    {
     "name": "stdout",
     "output_type": "stream",
     "text": [
      "Feature Importance:\n",
      "                        Importance\n",
      "PAY_0                     0.074453\n",
      "ID                        0.064161\n",
      "Credit_Utilization        0.057130\n",
      "AGE                       0.052923\n",
      "Total_Months_Delay        0.050070\n",
      "BILL_AMT1                 0.047090\n",
      "BILL_AMT2                 0.045158\n",
      "LIMIT_BAL                 0.044123\n",
      "BILL_AMT3                 0.041279\n",
      "PAY_AMT1                  0.040967\n",
      "BILL_AMT6                 0.040751\n",
      "BILL_AMT4                 0.040645\n",
      "BILL_AMT5                 0.040643\n",
      "PAY_AMT2                  0.038683\n",
      "PAY_AMT3                  0.037679\n",
      "PAY_AMT6                  0.037137\n",
      "PAY_AMT4                  0.036215\n",
      "PAY_2                     0.036176\n",
      "PAY_AMT5                  0.036042\n",
      "Average_Delay_Duration    0.029295\n",
      "PAY_3                     0.015480\n",
      "PAY_4                     0.013100\n",
      "PAY_5                     0.013069\n",
      "PAY_6                     0.012255\n",
      "EDUCATION_2               0.007970\n",
      "MARRIAGE_2                0.007616\n",
      "SEX_2                     0.007567\n",
      "EDUCATION_1               0.007439\n",
      "MARRIAGE_1                0.007368\n",
      "SEX_1                     0.007349\n",
      "EDUCATION_3               0.006565\n",
      "MARRIAGE_3                0.001727\n",
      "EDUCATION_5               0.000922\n",
      "EDUCATION_4               0.000327\n",
      "EDUCATION_6               0.000324\n",
      "MARRIAGE_0                0.000304\n",
      "EDUCATION_0               0.000002\n"
     ]
    }
   ],
   "source": [
    "# Create the pipeline & fit the pipeline on the training data\n",
    "pipe_rf = make_pipeline(RandomForestClassifier(random_state=2))\n",
    "pipe_rf.fit(X_train, y_train)\n",
    "\n",
    "# Access the trained Random Forest model from the pipeline\n",
    "rf_model = pipe_rf.named_steps['randomforestclassifier']\n",
    "\n",
    "# Get feature importances & create sorted DataFrame\n",
    "feature_importance = rf_model.feature_importances_\n",
    "rf_imp_df = pd.DataFrame(data={\"Importance\": feature_importance}, index=X_train.columns)\n",
    "rf_imp_df = rf_imp_df.sort_values(by=\"Importance\", ascending=False)\n",
    "\n",
    "# Print the sorted DataFrame\n",
    "print(\"Feature Importance:\")\n",
    "print(rf_imp_df)"
   ]
  },
  {
   "cell_type": "markdown",
   "id": "340509e2-adff-4db1-8425-6f308a79191c",
   "metadata": {},
   "source": [
    "Top Features:\n",
    "- The most influential features in predicting credit card default:\n",
    "    + PAY_0 (Repayment status in September)\n",
    "    + ID (Client ID)\n",
    "    + Credit_Utilization\n",
    "    + AGE\n",
    "    + Total_Months_Delay\n",
    "    + BILL_AMT1 (Bill amount in September)\n",
    "    + LIMIT_BAL (Credit limit)\n",
    "\n",
    "Payment and Billing Patterns:\n",
    "- PAY_0 and related features (PAY_2 to PAY_6) have notable importance, indicating the significance of payment history in default prediction.\n",
    "- BILL_AMT1, BILL_AMT2, BILL_AMT3, BILL_AMT4, BILL_AMT5, BILL_AMT6, and associated PAY_AMT features reflect the billing and payment behavior.\n",
    "\n",
    "Demographic Factors such as AGE and features related to SEX, EDUCATION, and MARRIAGE also contribute to the model's predictive power.\n"
   ]
  },
  {
   "cell_type": "markdown",
   "id": "f8655dcb-9970-454f-a9a7-e7121a7e8251",
   "metadata": {
    "tags": []
   },
   "source": [
    "## Results on the test set <a name=\"12\"></a>\n",
    "Finally, I tried our Random Forest model on the test data and compared the test scores with the validation scores from before."
   ]
  },
  {
   "cell_type": "code",
   "execution_count": 37,
   "id": "a760c801-6ad0-45dc-b922-fe4065321ff8",
   "metadata": {},
   "outputs": [
    {
     "name": "stdout",
     "output_type": "stream",
     "text": [
      "Accuracy on Test Set: 0.8184444444444444\n"
     ]
    }
   ],
   "source": [
    "# Evaluate our trained Random forest model on the test set \n",
    "y_pred_rf = random_search_rf.predict(X_test)\n",
    "accuracy_on_test_set_rf = accuracy_score(y_test, y_pred_rf)\n",
    "print(f\"Accuracy on Test Set: {accuracy_on_test_set_rf}\")"
   ]
  },
  {
   "cell_type": "markdown",
   "id": "08595edc-77df-45d2-825a-b36b541334ff",
   "metadata": {},
   "source": [
    "Compare with the validation scores from Random Forest Model"
   ]
  },
  {
   "cell_type": "code",
   "execution_count": 39,
   "id": "6f1eda1e-3a4f-4890-9f4a-327214986571",
   "metadata": {},
   "outputs": [
    {
     "name": "stdout",
     "output_type": "stream",
     "text": [
      "Mean Cross-Validation Score: 0.8201904761904762\n",
      "Standard Deviation of Cross-Validation Scores: 0.00351026999885375\n"
     ]
    }
   ],
   "source": [
    "print(f\"Mean Cross-Validation Score: {cv_mean_rf}\")\n",
    "print(f\"Standard Deviation of Cross-Validation Scores: {cv_std_rf}\")"
   ]
  },
  {
   "cell_type": "markdown",
   "id": "20a6e2ae-fc33-4a61-b615-d1dfb0b707fd",
   "metadata": {},
   "source": [
    "- The test score (accuracy on the test set) is very close to the mean cross-validation score, and the standard deviation of cross-validation scores is relatively small. This indicates that the model generalizes well to unseen data, as the performance on the test set aligns with the average performance observed during cross-validation.\n",
    "- We attempted to use the test set in some ways during the model development process and exposed our test set, and that could be a risk of optimization bias. However, because the test set should only be used for final evaluation after model development and hyperparameter tuning, we use cross-validation for hyperparameter tuning and model evaluation during development. The test set was only used once at the end. "
   ]
  },
  {
   "cell_type": "markdown",
   "id": "600d0faa-0007-4613-a4a1-4c568ec13fb8",
   "metadata": {},
   "source": [
    "<!-- END QUESTION -->\n",
    "\n",
    "<br><br>"
   ]
  },
  {
   "cell_type": "markdown",
   "id": "b91780fa-267b-4680-bcb0-767003653ec3",
   "metadata": {},
   "source": [
    "\n",
    "## Summary of results <a name=\"13\"></a>"
   ]
  },
  {
   "cell_type": "markdown",
   "id": "5b3ea785-0148-4548-9142-c9f8aab17991",
   "metadata": {},
   "source": [
    "## Model Performance Summary\n",
    "\n",
    "| Model                 | Best Hyperparameters                      | Cross-Validation Mean Accuracy | Test Set Accuracy |\n",
    "|-----------------------|-------------------------------------------|--------------------------------|-------------------|\n",
    "| Linear SVM            | {'svc__C': 0.1, 'svc__kernel': 'linear'} | 0.8142                         | -                 |\n",
    "| Decision Tree         | {'decisiontreeclassifier__criterion': 'gini', 'decisiontreeclassifier__max_depth': 10} | 0.7496               | -                 |\n",
    "| Random Forest         | {'randomforestclassifier__n_estimators': 100, 'randomforestclassifier__max_depth': None} | 0.8202 | 0.8184 |\n",
    "| k-Nearest Neighbors  | {'kneighborsclassifier__n_neighbors': 7, 'kneighborsclassifier__weights': 'uniform'} | 0.7917 | -                 |\n",
    "\n",
    "## Feature Importance\n",
    "\n",
    "- **Top Features:**\n",
    "  - PAY_0 (Repayment status in September)\n",
    "  - ID (Client ID)\n",
    "  - Credit_Utilization\n",
    "  - AGE\n",
    "  - Total_Months_Delay\n",
    "  - BILL_AMT1 (Bill amount in September)\n",
    "  - LIMIT_BAL (Credit limit)\n",
    "\n",
    "- **Payment and Billing Patterns:**\n",
    "  - PAY_0 and related features (PAY_2 to PAY_6) have notable importance, indicating the significance of payment history in default prediction.\n",
    "  - BILL_AMT1, BILL_AMT2, BILL_AMT3, BILL_AMT4, BILL_AMT5, BILL_AMT6, and associated PAY_AMT features reflect the billing and payment behavior.\n",
    "\n",
    "- **Demographic Factors:**\n",
    "  - AGE and features related to SEX, EDUCATION, and MARRIAGE also contribute to the model's predictive power.\n",
    "\n",
    "## Concluding Remarks\n",
    "\n",
    "- The Random Forest model remains the top-performing model with a cross-validation accuracy of 82.02%, consistent with the validation results.\n",
    "- Key features influencing predictions include payment history, credit utilization, and demographic factors.\n",
    "- The accuracy on the test set is 81.84%, confirming the model's reliability on unseen data.\n",
    "\n",
    "## Other Ideas\n",
    "\n",
    "- **Ensemble Methods:** Combining multiple models through ensemble methods like stacking or boosting could potentially improve performance.\n",
    "- **Feature Engineering:** Exploring additional features or creating new features might provide valuable information to the models.\n",
    "- **Different Algorithms:** Trying more complex algorithms or deep learning models could capture intricate patterns in the data.\n",
    "\n"
   ]
  },
  {
   "cell_type": "markdown",
   "id": "9158b233-8adb-4f2d-98f3-470060f1019c",
   "metadata": {},
   "source": [
    "<!-- END QUESTION -->\n",
    "\n",
    "<br><br>"
   ]
  },
  {
   "cell_type": "markdown",
   "id": "3fbdd9e9-c7c5-4afb-ac2f-8a1b14a3e607",
   "metadata": {},
   "source": [
    "<br><br>"
   ]
  },
  {
   "cell_type": "markdown",
   "id": "1d10c760-49fd-4f06-b808-9d8512659d65",
   "metadata": {},
   "source": [
    "<!-- BEGIN QUESTION -->\n",
    "\n",
    "## Takeaway <a name=\"15\"></a>"
   ]
  },
  {
   "cell_type": "markdown",
   "id": "8eed7b14-71f8-41ee-97a0-ba3a438c25bc",
   "metadata": {},
   "source": [
    "One of my biggest learnings from this course is indeed the significance of data transformation. Delving into feature engineering techniques to optimize model performance, addressing missing values, scaling, and encoding categorical variables proved to be even more captivating and fulfilling than we initially anticipated. The process of engineering features, including the decision-making on which columns should be included in the model or devising new columns, provides a profound sense of control over the dataset. This newfound understanding extends beyond the realm of machine learning, potentially influencing various tasks such as data analytics."
   ]
  }
 ],
 "metadata": {
  "kernelspec": {
   "display_name": "Python [conda env:csc4800]",
   "language": "python",
   "name": "conda-env-csc4800-py"
  },
  "language_info": {
   "codemirror_mode": {
    "name": "ipython",
    "version": 3
   },
   "file_extension": ".py",
   "mimetype": "text/x-python",
   "name": "python",
   "nbconvert_exporter": "python",
   "pygments_lexer": "ipython3",
   "version": "3.10.12"
  }
 },
 "nbformat": 4,
 "nbformat_minor": 5
}
